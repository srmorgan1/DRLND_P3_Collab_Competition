{
 "cells": [
  {
   "cell_type": "markdown",
   "metadata": {},
   "source": [
    " # Collaboration and Competition\n",
    "\n",
    " ---\n",
    "\n",
    " In this notebook, you will learn how to use the Unity ML-Agents environment for the third project of the [Deep Reinforcement Learning Nanodegree](https://www.udacity.com/course/deep-reinforcement-learning-nanodegree--nd893) program.\n",
    "\n",
    " ### 1. Start the Environment\n",
    "\n",
    " We begin by importing the necessary packages.  If the code cell below returns an error, please revisit the project instructions to double-check that you have installed [Unity ML-Agents](https://github.com/Unity-Technologies/ml-agents/blob/master/docs/Installation.md) and [NumPy](http://www.numpy.org/)."
   ]
  },
  {
   "cell_type": "code",
   "execution_count": 1,
   "metadata": {},
   "outputs": [],
   "source": [
    "!pip -q install ./python"
   ]
  },
  {
   "cell_type": "code",
   "execution_count": 2,
   "metadata": {},
   "outputs": [],
   "source": [
    "from unityagents import UnityEnvironment\n",
    "from collections import namedtuple, deque\n",
    "import numpy as np\n",
    "import torch\n",
    "from ddpg_agent import Agent\n",
    "\n",
    "import matplotlib.pyplot as plt\n",
    "%matplotlib inline"
   ]
  },
  {
   "cell_type": "markdown",
   "metadata": {},
   "source": [
    "The environment is already saved in the Udacity Workspace and can be accessed at the file path provided below."
   ]
  },
  {
   "cell_type": "code",
   "execution_count": 3,
   "metadata": {},
   "outputs": [
    {
     "name": "stderr",
     "output_type": "stream",
     "text": [
      "INFO:unityagents:\n",
      "'Academy' started successfully!\n",
      "Unity Academy name: Academy\n",
      "        Number of Brains: 1\n",
      "        Number of External Brains : 1\n",
      "        Lesson number : 0\n",
      "        Reset Parameters :\n",
      "\t\t\n",
      "Unity brain name: TennisBrain\n",
      "        Number of Visual Observations (per agent): 0\n",
      "        Vector Observation space type: continuous\n",
      "        Vector Observation space size (per agent): 8\n",
      "        Number of stacked Vector Observation: 3\n",
      "        Vector Action space type: continuous\n",
      "        Vector Action space size (per agent): 2\n",
      "        Vector Action descriptions: , \n"
     ]
    }
   ],
   "source": [
    "env = UnityEnvironment(file_name=\"/data/Tennis_Linux_NoVis/Tennis\")"
   ]
  },
  {
   "cell_type": "markdown",
   "metadata": {},
   "source": [
    "Alternatively if running on your local computer you can use a local environment as follows:\n",
    "\n",
    "**_Before running the code cell below_**, change the `file_name` parameter to match the location of the Unity environment that you downloaded.\n",
    "\n",
    " - **Mac**: `\"path/to/Tennis.app\"`\n",
    " - **Windows** (x86): `\"path/to/Tennis_Windows_x86/Tennis.exe\"`\n",
    " - **Windows** (x86_64): `\"path/to/Tennis_Windows_x86_64/Tennis.exe\"`\n",
    " - **Linux** (x86): `\"path/to/Tennis_Linux/Tennis.x86\"`\n",
    " - **Linux** (x86_64): `\"path/to/Tennis_Linux/Tennis.x86_64\"`\n",
    " - **Linux** (x86, headless): `\"path/to/Tennis_Linux_NoVis/Tennis.x86\"`\n",
    " - **Linux** (x86_64, headless): `\"path/to/Tennis_Linux_NoVis/Tennis.x86_64\"`\n",
    "\n",
    " For instance, if you are using a Mac, then you downloaded `Tennis.app`.  If this file is in the same folder as the notebook, then the line below should appear as follows:\n",
    " ```\n",
    " env = UnityEnvironment(file_name=\"Tennis.app\")\n",
    " ```"
   ]
  },
  {
   "cell_type": "code",
   "execution_count": 4,
   "metadata": {},
   "outputs": [],
   "source": [
    "#env = UnityEnvironment(file_name=\"Tennis.app\")"
   ]
  },
  {
   "cell_type": "markdown",
   "metadata": {},
   "source": [
    " Next, we will start the environment!\n",
    " \n",
    " Environments contain **_brains_** which are responsible for deciding the actions of their associated agents. Here we check for the first brain available, and set it as the default brain we will be controlling from Python."
   ]
  },
  {
   "cell_type": "code",
   "execution_count": 5,
   "metadata": {},
   "outputs": [],
   "source": [
    "# get the default brain\n",
    "brain_name = env.brain_names[0]\n",
    "brain = env.brains[brain_name]"
   ]
  },
  {
   "cell_type": "markdown",
   "metadata": {},
   "source": [
    " ### 2. Examine the State and Action Spaces\n",
    "\n",
    " In this environment, two agents control rackets to bounce a ball over a net. If an agent hits the ball over the net, it receives a reward of +0.1.  If an agent lets a ball hit the ground or hits the ball out of bounds, it receives a reward of -0.01.  Thus, the goal of each agent is to keep the ball in play.\n",
    "\n",
    " The observation space consists of 8 variables corresponding to the position and velocity of the ball and racket. Two continuous actions are available, corresponding to movement toward (or away from) the net, and jumping.\n",
    "\n",
    " Run the code cell below to print some information about the environment."
   ]
  },
  {
   "cell_type": "code",
   "execution_count": 6,
   "metadata": {},
   "outputs": [
    {
     "name": "stdout",
     "output_type": "stream",
     "text": [
      "Number of agents: 2\n",
      "Size of each action: 2\n",
      "There are 2 agents. Each observes a state with length: 24\n",
      "The state for the first agent looks like: [ 0.          0.          0.          0.          0.          0.          0.\n",
      "  0.          0.          0.          0.          0.          0.          0.\n",
      "  0.          0.         -6.65278625 -1.5        -0.          0.\n",
      "  6.83172083  6.         -0.          0.        ]\n"
     ]
    }
   ],
   "source": [
    "# reset the environment\n",
    "env_info = env.reset(train_mode=True)[brain_name]\n",
    "\n",
    "# number of agents \n",
    "num_agents = len(env_info.agents)\n",
    "print('Number of agents:', num_agents)\n",
    "\n",
    "# size of each action\n",
    "action_size = brain.vector_action_space_size\n",
    "print('Size of each action:', action_size)\n",
    "\n",
    "# examine the state space \n",
    "states = env_info.vector_observations\n",
    "state_size = states.shape[1]\n",
    "print('There are {} agents. Each observes a state with length: {}'.format(states.shape[0], state_size))\n",
    "print('The state for the first agent looks like:', states[0])\n"
   ]
  },
  {
   "cell_type": "markdown",
   "metadata": {},
   "source": [
    " ### 3. Train the agent\n"
   ]
  },
  {
   "cell_type": "code",
   "execution_count": 7,
   "metadata": {},
   "outputs": [],
   "source": [
    "BATCH_SIZE = 128        # minibatch size\n",
    "BUFFER_SIZE = int(1e6)  # replay buffer size\n",
    "GAMMA = 0.99            # discount factor\n",
    "LR_ACTOR = 1e-3         # learning rate of the actor \n",
    "LR_CRITIC = 1e-3        # learning rate of the critic\n",
    "TAU = 6e-2              # for soft update of target parameters\n",
    "WEIGHT_DECAY = 0        # L2 weight decay\n",
    "EPSILON_START = 7.0     # Starting value of noise scaling parameter\n",
    "EPSILON_END = 0.01      # Minimum allowed value of noise scaling parameter\n",
    "EPSILON_DECAY = 0.997   # Decay rate of noise scaling parameter\n",
    "ADD_NOISE = True        # Whether to add noise to the learning\n"
   ]
  },
  {
   "cell_type": "code",
   "execution_count": 8,
   "metadata": {},
   "outputs": [],
   "source": [
    "agent_0 = Agent(state_size, action_size, agent_number=0, gamma=GAMMA, tau=TAU,\n",
    "    epsilon_start=EPSILON_START, epsilon_end=EPSILON_END, epsilon_decay=EPSILON_DECAY,\n",
    "    weight_decay=WEIGHT_DECAY, replay_buffer_size=BUFFER_SIZE, batch_size=BATCH_SIZE,\n",
    "    lr_actor=LR_ACTOR, lr_critic=LR_CRITIC)\n",
    "agent_1 = Agent(state_size, action_size, agent_number=1, gamma=GAMMA, tau=TAU,\n",
    "    epsilon_start=EPSILON_START, epsilon_end=EPSILON_END, epsilon_decay=EPSILON_DECAY,\n",
    "    weight_decay=WEIGHT_DECAY, replay_buffer_size=BUFFER_SIZE, batch_size=BATCH_SIZE,\n",
    "    lr_actor=LR_ACTOR, lr_critic=LR_CRITIC)"
   ]
  },
  {
   "cell_type": "code",
   "execution_count": 9,
   "metadata": {},
   "outputs": [],
   "source": [
    "def act(states, add_noise=True):\n",
    "    # Select an action for each agent\n",
    "    action_0 = agent_0.act(states, add_noise)\n",
    "    action_1 = agent_1.act(states, add_noise)\n",
    "    \n",
    "    # Combine actions\n",
    "    actions = np.concatenate((action_0, action_1), axis=0)\n",
    "    actions = np.reshape(actions, (1, action_size*num_agents))\n",
    "    return actions"
   ]
  },
  {
   "cell_type": "code",
   "execution_count": 10,
   "metadata": {},
   "outputs": [],
   "source": [
    "def step(states, actions, rewards, next_states, done):\n",
    "    # Learning step\n",
    "    agent_0.step(states, actions, rewards[0], next_states, done)\n",
    "    agent_1.step(states, actions, rewards[1], next_states, done)"
   ]
  },
  {
   "cell_type": "code",
   "execution_count": 11,
   "metadata": {},
   "outputs": [],
   "source": [
    "def train(n_episodes=1000, solve_score=0.5):\n",
    "    print (\"*** STARTED TRAINING ***\")\n",
    "    all_scores = []\n",
    "    rolling_average_scores = []\n",
    "    scores_window = deque(maxlen=100)\n",
    "\n",
    "    for i_episode in range(n_episodes):\n",
    "        #print(\"i_episode = {}\".format(i_episode))\n",
    "        env_info = env.reset(train_mode=True)[brain_name]      # reset the environment\n",
    "        states = env_info.vector_observations\n",
    "        states = np.reshape(states, (1, state_size*num_agents))\n",
    "        agent_0.reset()\n",
    "        agent_1.reset()\n",
    "        scores = np.zeros(num_agents)\n",
    "\n",
    "        i_step = 0\n",
    "        while True:\n",
    "            actions = act(states, ADD_NOISE)                                          # Calculate agent actions\n",
    "            env_info = env.step(actions)[brain_name]                                  # Send both agents' actions to the environment\n",
    "            next_states = env_info.vector_observations                                # Get next states\n",
    "            next_states = np.reshape(next_states, (1, state_size*num_agents))         # Combine the agent states into one state space\n",
    "            rewards = env_info.rewards                                                # Get rewards\n",
    "            done = env_info.local_done                                                # Get completion status of episode\n",
    "            step(states, actions, rewards, next_states, done)                         # Learning steps for each agent\n",
    "\n",
    "            scores += rewards                                                         # Update the agent scores\n",
    "            states = next_states                                                      # Roll the state forward\n",
    "            i_step += 1\n",
    "            if np.any(done):                                                          # Exit if episode completed\n",
    "                break\n",
    "\n",
    "        #print('Episode completed in {} steps'.format(i_step+1))\n",
    "        # Update agent noise scaling\n",
    "        agent_0.update_noise_scaling()\n",
    "        agent_1.update_noise_scaling()\n",
    "        \n",
    "        # Update scores\n",
    "        scores_window.append(np.max(scores))\n",
    "        all_scores.append(np.max(scores))\n",
    "        rolling_average_scores.append(np.mean(scores_window))\n",
    "\n",
    "        if i_episode % 10 == 0:\n",
    "            print('Episode {}\\tMax Reward: {:.3f}\\tAverage Reward: {:.3f}'.format(i_episode, np.max(scores), np.mean(scores_window)))\n",
    "\n",
    "        if np.mean(scores_window) >= solve_score:\n",
    "            print('\\nEnvironment solved in {:d} episodes!\\tAverage Score: {:.3f}'.format(i_episode-100, np.mean(scores_window)))\n",
    "            torch.save(agent_0.actor_local.state_dict(), 'checkpoint_actor_0.pth')\n",
    "            torch.save(agent_0.critic_local.state_dict(), 'checkpoint_critic_0.pth')\n",
    "            torch.save(agent_1.actor_local.state_dict(), 'checkpoint_actor_1.pth')\n",
    "            torch.save(agent_1.critic_local.state_dict(), 'checkpoint_critic_1.pth')\n",
    "            print (\"*** FINISHED TRAINING ***\")\n",
    "            break\n",
    "\n",
    "    return all_scores, rolling_average_scores"
   ]
  },
  {
   "cell_type": "code",
   "execution_count": 12,
   "metadata": {},
   "outputs": [
    {
     "name": "stdout",
     "output_type": "stream",
     "text": [
      "*** STARTED TRAINING ***\n",
      "Episode 0\tMax Reward: 0.000\tAverage Reward: 0.000\n",
      "Episode 10\tMax Reward: 0.000\tAverage Reward: 0.016\n",
      "Episode 20\tMax Reward: 0.000\tAverage Reward: 0.013\n",
      "Episode 30\tMax Reward: 0.000\tAverage Reward: 0.009\n",
      "Episode 40\tMax Reward: 0.000\tAverage Reward: 0.009\n",
      "Episode 50\tMax Reward: 0.000\tAverage Reward: 0.007\n",
      "Episode 60\tMax Reward: 0.000\tAverage Reward: 0.011\n",
      "Episode 70\tMax Reward: 0.000\tAverage Reward: 0.012\n",
      "Episode 80\tMax Reward: 0.100\tAverage Reward: 0.012\n",
      "Episode 90\tMax Reward: 0.000\tAverage Reward: 0.011\n",
      "Episode 100\tMax Reward: 0.090\tAverage Reward: 0.012\n",
      "Episode 110\tMax Reward: 0.000\tAverage Reward: 0.015\n",
      "Episode 120\tMax Reward: 0.000\tAverage Reward: 0.016\n",
      "Episode 130\tMax Reward: 0.000\tAverage Reward: 0.017\n",
      "Episode 140\tMax Reward: 0.000\tAverage Reward: 0.020\n",
      "Episode 150\tMax Reward: 0.000\tAverage Reward: 0.021\n",
      "Episode 160\tMax Reward: 0.000\tAverage Reward: 0.020\n",
      "Episode 170\tMax Reward: 0.000\tAverage Reward: 0.019\n",
      "Episode 180\tMax Reward: 0.000\tAverage Reward: 0.019\n",
      "Episode 190\tMax Reward: 0.090\tAverage Reward: 0.023\n",
      "Episode 200\tMax Reward: 0.000\tAverage Reward: 0.021\n",
      "Episode 210\tMax Reward: 0.000\tAverage Reward: 0.018\n",
      "Episode 220\tMax Reward: 0.090\tAverage Reward: 0.017\n",
      "Episode 230\tMax Reward: 0.090\tAverage Reward: 0.019\n",
      "Episode 240\tMax Reward: 0.000\tAverage Reward: 0.019\n",
      "Episode 250\tMax Reward: 0.000\tAverage Reward: 0.022\n",
      "Episode 260\tMax Reward: 0.000\tAverage Reward: 0.022\n",
      "Episode 270\tMax Reward: 0.100\tAverage Reward: 0.025\n",
      "Episode 280\tMax Reward: 0.000\tAverage Reward: 0.027\n",
      "Episode 290\tMax Reward: 0.000\tAverage Reward: 0.027\n",
      "Episode 300\tMax Reward: 0.000\tAverage Reward: 0.030\n",
      "Episode 310\tMax Reward: 0.090\tAverage Reward: 0.032\n",
      "Episode 320\tMax Reward: 0.090\tAverage Reward: 0.036\n",
      "Episode 330\tMax Reward: 0.000\tAverage Reward: 0.039\n",
      "Episode 340\tMax Reward: 0.000\tAverage Reward: 0.037\n",
      "Episode 350\tMax Reward: 0.090\tAverage Reward: 0.036\n",
      "Episode 360\tMax Reward: 0.000\tAverage Reward: 0.039\n",
      "Episode 370\tMax Reward: 0.090\tAverage Reward: 0.039\n",
      "Episode 380\tMax Reward: 0.000\tAverage Reward: 0.044\n",
      "Episode 390\tMax Reward: 0.100\tAverage Reward: 0.046\n",
      "Episode 400\tMax Reward: 0.000\tAverage Reward: 0.046\n",
      "Episode 410\tMax Reward: 0.090\tAverage Reward: 0.050\n",
      "Episode 420\tMax Reward: 0.100\tAverage Reward: 0.050\n",
      "Episode 430\tMax Reward: 0.100\tAverage Reward: 0.051\n",
      "Episode 440\tMax Reward: 0.000\tAverage Reward: 0.054\n",
      "Episode 450\tMax Reward: 0.000\tAverage Reward: 0.056\n",
      "Episode 460\tMax Reward: 0.100\tAverage Reward: 0.057\n",
      "Episode 470\tMax Reward: 0.000\tAverage Reward: 0.057\n",
      "Episode 480\tMax Reward: 0.100\tAverage Reward: 0.058\n",
      "Episode 490\tMax Reward: 0.000\tAverage Reward: 0.053\n",
      "Episode 500\tMax Reward: 0.000\tAverage Reward: 0.054\n",
      "Episode 510\tMax Reward: 0.090\tAverage Reward: 0.052\n",
      "Episode 520\tMax Reward: 0.000\tAverage Reward: 0.055\n",
      "Episode 530\tMax Reward: 0.100\tAverage Reward: 0.056\n",
      "Episode 540\tMax Reward: 0.100\tAverage Reward: 0.058\n",
      "Episode 550\tMax Reward: 0.000\tAverage Reward: 0.060\n",
      "Episode 560\tMax Reward: 0.000\tAverage Reward: 0.058\n",
      "Episode 570\tMax Reward: 0.100\tAverage Reward: 0.064\n",
      "Episode 580\tMax Reward: 0.100\tAverage Reward: 0.062\n",
      "Episode 590\tMax Reward: 0.100\tAverage Reward: 0.069\n",
      "Episode 600\tMax Reward: 0.100\tAverage Reward: 0.077\n",
      "Episode 610\tMax Reward: 0.090\tAverage Reward: 0.082\n",
      "Episode 620\tMax Reward: 0.200\tAverage Reward: 0.087\n",
      "Episode 630\tMax Reward: 0.000\tAverage Reward: 0.092\n",
      "Episode 640\tMax Reward: 0.000\tAverage Reward: 0.099\n",
      "Episode 650\tMax Reward: 0.100\tAverage Reward: 0.103\n",
      "Episode 660\tMax Reward: 0.100\tAverage Reward: 0.111\n",
      "Episode 670\tMax Reward: 0.200\tAverage Reward: 0.113\n",
      "Episode 680\tMax Reward: 0.100\tAverage Reward: 0.123\n",
      "Episode 690\tMax Reward: 0.100\tAverage Reward: 0.129\n",
      "Episode 700\tMax Reward: 0.100\tAverage Reward: 0.140\n",
      "Episode 710\tMax Reward: 0.900\tAverage Reward: 0.159\n",
      "Episode 720\tMax Reward: 0.300\tAverage Reward: 0.181\n",
      "Episode 730\tMax Reward: 0.100\tAverage Reward: 0.192\n",
      "Episode 740\tMax Reward: 0.100\tAverage Reward: 0.199\n",
      "Episode 750\tMax Reward: 0.200\tAverage Reward: 0.200\n",
      "Episode 760\tMax Reward: 0.200\tAverage Reward: 0.205\n",
      "Episode 770\tMax Reward: 0.400\tAverage Reward: 0.228\n",
      "Episode 780\tMax Reward: 0.300\tAverage Reward: 0.240\n",
      "Episode 790\tMax Reward: 0.800\tAverage Reward: 0.261\n",
      "Episode 800\tMax Reward: 0.090\tAverage Reward: 0.273\n",
      "Episode 810\tMax Reward: 0.000\tAverage Reward: 0.257\n",
      "Episode 820\tMax Reward: 2.100\tAverage Reward: 0.277\n",
      "Episode 830\tMax Reward: 0.400\tAverage Reward: 0.321\n",
      "Episode 840\tMax Reward: 0.200\tAverage Reward: 0.346\n",
      "Episode 850\tMax Reward: 0.200\tAverage Reward: 0.348\n",
      "Episode 860\tMax Reward: 1.400\tAverage Reward: 0.397\n",
      "Episode 870\tMax Reward: 0.800\tAverage Reward: 0.433\n",
      "Episode 880\tMax Reward: 0.200\tAverage Reward: 0.455\n",
      "\n",
      "Environment solved in 787 episodes!\tAverage Score: 0.518\n",
      "*** FINISHED TRAINING ***\n"
     ]
    }
   ],
   "source": [
    "all_scores, rolling_average_scores = train(solve_score=0.5);\n"
   ]
  },
  {
   "cell_type": "markdown",
   "metadata": {},
   "source": [
    " ### 4. Plot training episode scores\n"
   ]
  },
  {
   "cell_type": "code",
   "execution_count": 13,
   "metadata": {},
   "outputs": [
    {
     "data": {
      "image/png": "[encoded data removed]",
      "text/plain": [
       "<matplotlib.figure.Figure at 0x7fb08b9ea358>"
      ]
     },
     "metadata": {
      "needs_background": "light"
     },
     "output_type": "display_data"
    }
   ],
   "source": [
    "fig = plt.figure()\n",
    "ax = fig.add_subplot(111)\n",
    "plt.plot(np.arange(1, len(all_scores)+1), all_scores)\n",
    "plt.plot(np.arange(1, len(rolling_average_scores)+1), rolling_average_scores)\n",
    "plt.ylabel('Score')\n",
    "plt.xlabel('Episode #')\n",
    "plt.show()\n"
   ]
  },
  {
   "cell_type": "markdown",
   "metadata": {},
   "source": [
    " ### 5. Watch trained agents play tennis\n"
   ]
  },
  {
   "cell_type": "code",
   "execution_count": 14,
   "metadata": {},
   "outputs": [],
   "source": [
    "def play (num_episodes=1000):\n",
    "    # Set environment to evalulation mode\n",
    "    env_info = env.reset(train_mode=False)[brain_name]     # reset the environment    \n",
    "    states = env_info.vector_observations                  # get the current state (for each agent)\n",
    "    states = np.reshape(states, (1, state_size * num_agents))\n",
    "\n",
    "    for i in range(num_episodes):\n",
    "        actions = act(states, add_noise=False)             # select an action (for each agent)\n",
    "        env_info = env.step(actions)[brain_name]           # send all actions to tne environment\n",
    "        next_states = np.reshape(env_info.vector_observations, (1, state_size * num_agents))        # get next state (for each agent)\n",
    "        rewards = env_info.rewards                         # get reward (for each agent)\n",
    "        dones = env_info.local_done                        # see if episode finished\n",
    "        states = next_states                               # roll over states to next time step\n",
    "        if np.any(dones):                                  # exit loop if episode finished\n",
    "            break\n",
    "\n"
   ]
  },
  {
   "cell_type": "code",
   "execution_count": null,
   "metadata": {},
   "outputs": [],
   "source": [
    "# Load the trained neural network parameters\n",
    "agent_0.actor_local.load_state_dict(torch.load('checkpoint_actor_0.pth'))\n",
    "agent_0.critic_local.load_state_dict(torch.load('checkpoint_critic_0.pth'))\n",
    "agent_1.actor_local.load_state_dict(torch.load('checkpoint_actor_1.pth'))\n",
    "agent_1.critic_local.load_state_dict(torch.load('checkpoint_critic_1.pth'))\n",
    "\n",
    "# Play tennis!\n",
    "play()\n"
   ]
  },
  {
   "cell_type": "markdown",
   "metadata": {},
   "source": [
    " When finished, you can close the environment."
   ]
  },
  {
   "cell_type": "code",
   "execution_count": null,
   "metadata": {},
   "outputs": [],
   "source": [
    "env.close()\n"
   ]
  },
  {
   "cell_type": "code",
   "execution_count": null,
   "metadata": {},
   "outputs": [],
   "source": []
  }
 ],
 "metadata": {
  "file_extension": ".py",
  "kernelspec": {
   "display_name": "Python 3",
   "language": "python",
   "name": "python3"
  },
  "language_info": {
   "codemirror_mode": {
    "name": "ipython",
    "version": 3
   },
   "file_extension": ".py",
   "mimetype": "text/x-python",
   "name": "python",
   "nbconvert_exporter": "python",
   "pygments_lexer": "ipython3",
   "version": "3.6.6"
  },
  "mimetype": "text/x-python",
  "name": "python",
  "npconvert_exporter": "python",
  "pygments_lexer": "ipython3",
  "version": 3
 },
 "nbformat": 4,
 "nbformat_minor": 2
}
